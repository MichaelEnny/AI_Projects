{
 "cells": [
  {
   "cell_type": "code",
   "execution_count": null,
   "metadata": {},
   "outputs": [],
   "source": [
    "import nltk\n",
    "from nltk.tokenize import word_tokenize\n",
    "from nltk.corpus import stopwords\n",
    "from transformers import pipeline\n",
    "\n",
    "# Download NLTK data files\n",
    "nltk.download('punkt')\n",
    "nltk.download('stopwords')\n",
    "\n",
    "# Initialize NLP pipeline for sentiment analysis\n",
    "sentiment_pipeline = pipeline('sentiment-analysis')\n",
    "\n",
    "# Function to preprocess user input\n",
    "def preprocess_text(text):\n",
    "    tokens = word_tokenize(text.lower())\n",
    "    tokens = [word for word in tokens if word.isalpha()]\n",
    "    stop_words = set(stopwords.words('english'))\n",
    "    filtered_tokens = [word for word in tokens if word not in stop_words]\n",
    "    return ' '.join(filtered_tokens)\n",
    "\n",
    "# Function to generate chatbot response\n",
    "def generate_response(user_input):\n",
    "    preprocessed_text = preprocess_text(user_input)\n",
    "    sentiment = sentiment_pipeline(preprocessed_text)[0]\n",
    "    \n",
    "    if sentiment['label'] == 'POSITIVE':\n",
    "        return \"I'm glad you're feeling good! How can I assist you today?\"\n",
    "    else:\n",
    "        return \"I'm sorry to hear that. How can I help improve your day?\"\n",
    "\n",
    "# Example Interaction\n",
    "if __name__ == \"__main__\":\n",
    "    user_message = \"I'm feeling a bit down today.\"\n",
    "    response = generate_response(user_message)\n",
    "    print(f\"Chatbot: {response}\")\n"
   ]
  }
 ],
 "metadata": {
  "language_info": {
   "name": "python"
  }
 },
 "nbformat": 4,
 "nbformat_minor": 2
}
