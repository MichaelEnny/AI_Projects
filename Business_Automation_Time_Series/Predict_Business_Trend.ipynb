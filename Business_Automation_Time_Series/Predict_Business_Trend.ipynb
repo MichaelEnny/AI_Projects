{
 "cells": [
  {
   "cell_type": "code",
   "execution_count": null,
   "metadata": {},
   "outputs": [],
   "source": [
    "import pandas as pd\n",
    "from prophet import Prophet\n",
    "import matplotlib.pyplot as plt\n",
    "\n",
    "# Load and prepare data\n",
    "df = pd.read_csv('business_sales.csv')  # CSV with 'ds' and 'y' columns\n",
    "df['ds'] = pd.to_datetime(df['ds'])\n",
    "\n",
    "# Initialize and fit the Prophet model\n",
    "model = Prophet()\n",
    "model.fit(df)\n",
    "\n",
    "# Create future dataframe for predictions\n",
    "future = model.make_future_dataframe(periods=12, freq='M')\n",
    "forecast = model.predict(future)\n",
    "\n",
    "# Plot the forecast\n",
    "fig = model.plot(forecast)\n",
    "plt.title('Business Sales Forecast')\n",
    "plt.xlabel('Date')\n",
    "plt.ylabel('Sales')\n",
    "plt.show()\n",
    "\n",
    "# Automate decision-making based on forecast\n",
    "latest_forecast = forecast.tail(12)\n",
    "if latest_forecast['yhat'].mean() > df['y'].mean():\n",
    "    decision = \"Increase inventory levels.\"\n",
    "else:\n",
    "    decision = \"Maintain current inventory levels.\"\n",
    "print(f\"Automated Decision: {decision}\")\n"
   ]
  }
 ],
 "metadata": {
  "language_info": {
   "name": "python"
  }
 },
 "nbformat": 4,
 "nbformat_minor": 2
}
