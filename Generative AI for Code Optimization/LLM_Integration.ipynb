{
 "cells": [
  {
   "cell_type": "code",
   "execution_count": null,
   "metadata": {},
   "outputs": [],
   "source": [
    "import openai\n",
    "\n",
    "# OpenAI API Configuration\n",
    "openai.api_key = 'YOUR_OPENAI_API_KEY'\n",
    "\n",
    "# Function to review and suggest improvements for code\n",
    "def review_code(code_snippet):\n",
    "    prompt = f\"\"\"\n",
    "# Review the following Python code and suggest optimizations or improvements.\n",
    "\n",
    "{code_snippet}\n",
    "\n",
    "# Suggestions:\n",
    "\"\"\"\n",
    "    response = openai.Completion.create(\n",
    "        engine=\"davinci-codex\",\n",
    "        prompt=prompt,\n",
    "        temperature=0.3,\n",
    "        max_tokens=150,\n",
    "        top_p=1,\n",
    "        frequency_penalty=0,\n",
    "        presence_penalty=0\n",
    "    )\n",
    "    suggestions = response.choices[0].text.strip()\n",
    "    return suggestions\n",
    "\n",
    "# Example Code Snippet for Review\n",
    "code_snippet = \"\"\"\n",
    "def fibonacci(n):\n",
    "    a, b = 0, 1\n",
    "    for _ in range(n):\n",
    "        print(a)\n",
    "        a, b = b, a + b\n",
    "\"\"\"\n",
    "\n",
    "# Get suggestions\n",
    "suggestions = review_code(code_snippet)\n",
    "print(\"Suggestions for Improvement:\")\n",
    "print(suggestions)\n"
   ]
  }
 ],
 "metadata": {
  "language_info": {
   "name": "python"
  }
 },
 "nbformat": 4,
 "nbformat_minor": 2
}
